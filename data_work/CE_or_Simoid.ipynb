{
 "cells": [
  {
   "cell_type": "code",
   "execution_count": 1,
   "id": "2ca21de7",
   "metadata": {},
   "outputs": [],
   "source": [
    "import json\n",
    "import pandas as pd\n"
   ]
  },
  {
   "cell_type": "code",
   "execution_count": 2,
   "id": "32655f6f",
   "metadata": {},
   "outputs": [],
   "source": [
    "with open('../imat_data/train_annos_group_relabeled.json', 'r') as f:\n",
    "    train_annos = json.load(f)"
   ]
  },
  {
   "cell_type": "code",
   "execution_count": 4,
   "id": "59a60813",
   "metadata": {},
   "outputs": [
    {
     "name": "stdout",
     "output_type": "stream",
     "text": [
      "Multiclass groups: {'color', 'pattern', 'material'}\n"
     ]
    }
   ],
   "source": [
    "data = train_annos['annotations']\n",
    "\n",
    "\n",
    "multiclass_labels = set()\n",
    "for anno in data:\n",
    "    for group_name, labels in anno['labelId'].items():\n",
    "        if len(labels) > 1:\n",
    "            multiclass_labels.add(group_name)\n",
    "print(f\"Multiclass groups: {multiclass_labels}\")\n"
   ]
  }
 ],
 "metadata": {
  "kernelspec": {
   "display_name": "3.11.0",
   "language": "python",
   "name": "python3"
  },
  "language_info": {
   "codemirror_mode": {
    "name": "ipython",
    "version": 3
   },
   "file_extension": ".py",
   "mimetype": "text/x-python",
   "name": "python",
   "nbconvert_exporter": "python",
   "pygments_lexer": "ipython3",
   "version": "3.11.0"
  }
 },
 "nbformat": 4,
 "nbformat_minor": 5
}
