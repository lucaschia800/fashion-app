{
 "cells": [
  {
   "cell_type": "code",
   "execution_count": 1,
   "id": "13315862",
   "metadata": {},
   "outputs": [],
   "source": [
    "import json\n",
    "import pandas as pd\n"
   ]
  },
  {
   "cell_type": "code",
   "execution_count": 11,
   "id": "5446c8dc",
   "metadata": {},
   "outputs": [],
   "source": [
    "with open(\"validation_metrics.json\", \"r\") as f:\n",
    "    data = json.load(f)\n",
    "\n",
    "class_map = data['per_class_average_precision']\n",
    "\n",
    "\n"
   ]
  },
  {
   "cell_type": "code",
   "execution_count": 12,
   "id": "fd457b91",
   "metadata": {},
   "outputs": [],
   "source": [
    "label_map = pd.read_excel(\"../imat_data/relabel.xlsx\", engine='openpyxl')"
   ]
  },
  {
   "cell_type": "code",
   "execution_count": 8,
   "id": "b0d492fe",
   "metadata": {},
   "outputs": [
    {
     "data": {
      "text/plain": [
       "Index(['Unnamed: 0', 'labelId', 'taskId', 'labelName', 'taskName', 'keep',\n",
       "       'labelId_new'],\n",
       "      dtype='object')"
      ]
     },
     "execution_count": 8,
     "metadata": {},
     "output_type": "execute_result"
    }
   ],
   "source": [
    "label_map.columns"
   ]
  },
  {
   "cell_type": "code",
   "execution_count": 13,
   "id": "be8348a1",
   "metadata": {},
   "outputs": [
    {
     "name": "stdout",
     "output_type": "stream",
     "text": [
      "Label: Asymmetric, Precision: 0.1144\n",
      "Label: Baggy Jeans, Precision: 0.1804\n",
      "Label: Beach & Swim Wear, Precision: 0.1095\n",
      "Label: Beige, Precision: 0.1598\n",
      "Label: Bikinis, Precision: 0.6686\n",
      "Label: Black, Precision: 0.7925\n",
      "Label: Blouses, Precision: 0.5097\n",
      "Label: Blue, Precision: 0.4388\n",
      "Label: Bodycon, Precision: 0.5612\n",
      "Label: Bodysuits, Precision: 0.3584\n",
      "Label: Boots, Precision: 0.6091\n",
      "Label: Bra Straps, Precision: 0.2943\n",
      "Label: Bronze, Precision: 0.0121\n",
      "Label: Brown, Precision: 0.1204\n",
      "Label: Camouflage, Precision: 0.6729\n",
      "Label: Canvas, Precision: 0.0356\n",
      "Label: Capes & Capelets, Precision: 0.5311\n",
      "Label: Capri Pants, Precision: 0.2779\n",
      "Label: Cardigans, Precision: 0.5033\n",
      "Label: Cashmere, Precision: 0.0598\n",
      "Label: Checkered, Precision: 0.0803\n",
      "Label: Chiffon, Precision: 0.5804\n",
      "Label: Clear, Precision: 0.0815\n",
      "Label: Collared, Precision: 0.6360\n",
      "Label: Corduroy, Precision: 0.1002\n",
      "Label: Corsets, Precision: 0.8889\n",
      "Label: Cotton, Precision: 0.6238\n",
      "Label: Crochet, Precision: 0.2145\n",
      "Label: Crop Tops, Precision: 0.4097\n",
      "Label: Dance Wear, Precision: 0.2499\n",
      "Label: Denim, Precision: 0.6483\n",
      "Label: Drawstring Pants, Precision: 0.2810\n",
      "Label: Dress Shirts, Precision: 0.5431\n",
      "Label: Dresses, Precision: 0.4386\n",
      "Label: Embroidered, Precision: 0.0776\n",
      "Label: Faux Fur, Precision: 0.7168\n",
      "Label: Female, Precision: 0.9873\n",
      "Label: Flannel, Precision: 0.3003\n",
      "Label: Flats, Precision: 0.0028\n",
      "Label: Fleece, Precision: 0.0616\n",
      "Label: Floral, Precision: 0.5597\n",
      "Label: Formal Dresses, Precision: 0.3482\n",
      "Label: Fringe, Precision: 0.5162\n",
      "Label: Furry, Precision: 0.7411\n",
      "Label: Gold, Precision: 0.0982\n",
      "Label: Gray, Precision: 0.4962\n",
      "Label: Green, Precision: 0.4181\n",
      "Label: Hoodies & Sweatshirts, Precision: 0.4723\n",
      "Label: Jackets, Precision: 0.6021\n",
      "Label: Jeans, Precision: 0.4945\n",
      "Label: Knit, Precision: 0.5495\n",
      "Label: Lace, Precision: 0.7598\n",
      "Label: Leather, Precision: 0.6756\n",
      "Label: Leggings, Precision: 0.7254\n",
      "Label: Leopard And Cheetah, Precision: 0.7353\n",
      "Label: Linen, Precision: 0.1306\n",
      "Label: Long Sleeved, Precision: 0.9243\n",
      "Label: Male, Precision: 0.9469\n",
      "Label: Maternity, Precision: 0.1708\n",
      "Label: Mesh, Precision: 0.3479\n",
      "Label: Multi Color, Precision: 0.3071\n",
      "Label: Neutral, Precision: 0.1645\n",
      "Label: Nightgowns, Precision: 0.4520\n",
      "Label: Nylon, Precision: 0.2027\n",
      "Label: Orange, Precision: 0.2121\n",
      "Label: Peacoats, Precision: 0.5639\n",
      "Label: Pin Stripes, Precision: 0.0256\n",
      "Label: Pink, Precision: 0.4688\n",
      "Label: Plaid, Precision: 0.4625\n",
      "Label: Pleated, Precision: 0.4151\n",
      "Label: Plush, Precision: 0.1453\n",
      "Label: Polka Dot, Precision: 0.5758\n",
      "Label: Polos, Precision: 0.7812\n",
      "Label: Polyester, Precision: 0.4072\n",
      "Label: Printed, Precision: 0.2098\n",
      "Label: Pullover Sweaters, Precision: 0.3969\n",
      "Label: Purple, Precision: 0.2573\n",
      "Label: Raincoats, Precision: -0.0000\n",
      "Label: Rayon, Precision: 0.0461\n",
      "Label: Red, Precision: 0.4186\n",
      "Label: Rhinestone Studded, Precision: 0.2146\n",
      "Label: Ripped, Precision: 0.3454\n",
      "Label: Robes, Precision: 0.5521\n",
      "Label: Round Neck, Precision: 0.7195\n",
      "Label: Ruched, Precision: 0.3366\n",
      "Label: Ruffles, Precision: 0.2566\n",
      "Label: Sandals, Precision: 0.0003\n",
      "Label: Satin, Precision: 0.2804\n",
      "Label: Sequins, Precision: 0.2878\n",
      "Label: Sheer Tops, Precision: 0.2260\n",
      "Label: Short Sleeves, Precision: 0.8274\n",
      "Label: Shorts, Precision: 0.3610\n",
      "Label: Shoulder Drapes, Precision: 0.0979\n",
      "Label: Silk, Precision: 0.1784\n",
      "Label: Silver, Precision: 0.1170\n",
      "Label: Skinny Jeans, Precision: 0.7011\n",
      "Label: Skirts, Precision: 0.5217\n",
      "Label: Sleeveless, Precision: 0.8597\n",
      "Label: Snakeskin, Precision: 0.0788\n",
      "Label: Strapless, Precision: 0.6138\n",
      "Label: Stripes, Precision: 0.4955\n",
      "Label: Suede, Precision: 0.2835\n",
      "Label: Suits & Blazers, Precision: 0.7794\n",
      "Label: Summer, Precision: 0.5499\n",
      "Label: Sweatpants, Precision: 0.3073\n",
      "Label: T-Shirts, Precision: 0.8014\n",
      "Label: Tan, Precision: 0.0564\n",
      "Label: Tank Tops, Precision: 0.5481\n",
      "Label: Teal, Precision: 0.0319\n",
      "Label: Thigh Highs, Precision: 0.7969\n",
      "Label: Thongs, Precision: 0.4617\n",
      "Label: Tie Dye, Precision: 0.1054\n",
      "Label: Trench Coats, Precision: 0.2387\n",
      "Label: Trousers, Precision: 0.1480\n",
      "Label: Tube Tops, Precision: 0.1643\n",
      "Label: Turtlenecks, Precision: 0.2267\n",
      "Label: Two-Tone, Precision: 0.0711\n",
      "Label: U-Necks, Precision: 0.2683\n",
      "Label: Undershirts, Precision: 0.0924\n",
      "Label: Underwear, Precision: 0.6315\n",
      "Label: Uniforms, Precision: 0.1854\n",
      "Label: V-Necks, Precision: 0.5107\n",
      "Label: Velvet, Precision: 0.3487\n",
      "Label: Vests, Precision: 0.3304\n",
      "Label: Vinyl, Precision: 0.0106\n",
      "Label: Wedding Dresses, Precision: 0.7831\n",
      "Label: White, Precision: 0.6721\n",
      "Label: Wool, Precision: 0.2958\n",
      "Label: Wrap, Precision: 0.0266\n",
      "Label: Yellow, Precision: 0.4042\n",
      "Label: Zebra, Precision: 0.1826\n"
     ]
    }
   ],
   "source": [
    "for i in range(len(class_map)):\n",
    "    precision = class_map[i]\n",
    "    label = label_map[label_map['labelId_new'] == i]['labelName']\n",
    "    print(f\"Label: {label.values[0]}, Precision: {precision:.4f}\")"
   ]
  }
 ],
 "metadata": {
  "kernelspec": {
   "display_name": "3.11.0",
   "language": "python",
   "name": "python3"
  },
  "language_info": {
   "codemirror_mode": {
    "name": "ipython",
    "version": 3
   },
   "file_extension": ".py",
   "mimetype": "text/x-python",
   "name": "python",
   "nbconvert_exporter": "python",
   "pygments_lexer": "ipython3",
   "version": "3.11.0"
  }
 },
 "nbformat": 4,
 "nbformat_minor": 5
}
