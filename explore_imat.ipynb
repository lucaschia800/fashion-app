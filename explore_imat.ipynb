{
 "cells": [
  {
   "cell_type": "code",
   "execution_count": 1,
   "id": "72f9a7b4",
   "metadata": {},
   "outputs": [],
   "source": [
    "import pandas as pd\n",
    "import numpy as np\n",
    "import json\n"
   ]
  },
  {
   "cell_type": "code",
   "execution_count": 2,
   "id": "dc8696a0",
   "metadata": {},
   "outputs": [],
   "source": [
    "df = pd.read_excel('imat_data/label_map_228.xlsx')\n"
   ]
  },
  {
   "cell_type": "code",
   "execution_count": 3,
   "id": "4c790888",
   "metadata": {},
   "outputs": [
    {
     "name": "stdout",
     "output_type": "stream",
     "text": [
      "(228, 5)\n"
     ]
    }
   ],
   "source": [
    "print(df.shape)\n",
    "\n",
    "with open('imat_data/validation.json', 'r') as f:\n",
    "    validation = json.load(f)\n",
    "\n"
   ]
  },
  {
   "cell_type": "code",
   "execution_count": 28,
   "id": "e390b3e1",
   "metadata": {},
   "outputs": [
    {
     "data": {
      "text/html": [
       "<div>\n",
       "<style scoped>\n",
       "    .dataframe tbody tr th:only-of-type {\n",
       "        vertical-align: middle;\n",
       "    }\n",
       "\n",
       "    .dataframe tbody tr th {\n",
       "        vertical-align: top;\n",
       "    }\n",
       "\n",
       "    .dataframe thead th {\n",
       "        text-align: right;\n",
       "    }\n",
       "</style>\n",
       "<table border=\"1\" class=\"dataframe\">\n",
       "  <thead>\n",
       "    <tr style=\"text-align: right;\">\n",
       "      <th></th>\n",
       "      <th>labelId</th>\n",
       "      <th>taskId</th>\n",
       "      <th>labelName</th>\n",
       "      <th>taskName</th>\n",
       "      <th>keep</th>\n",
       "    </tr>\n",
       "  </thead>\n",
       "  <tbody>\n",
       "    <tr>\n",
       "      <th>0</th>\n",
       "      <td>1</td>\n",
       "      <td>6</td>\n",
       "      <td>Argyle</td>\n",
       "      <td>pattern</td>\n",
       "      <td>0.0</td>\n",
       "    </tr>\n",
       "    <tr>\n",
       "      <th>1</th>\n",
       "      <td>2</td>\n",
       "      <td>9</td>\n",
       "      <td>Asymmetric</td>\n",
       "      <td>style</td>\n",
       "      <td>NaN</td>\n",
       "    </tr>\n",
       "    <tr>\n",
       "      <th>2</th>\n",
       "      <td>3</td>\n",
       "      <td>1</td>\n",
       "      <td>Athletic Pants</td>\n",
       "      <td>category</td>\n",
       "      <td>0.0</td>\n",
       "    </tr>\n",
       "    <tr>\n",
       "      <th>3</th>\n",
       "      <td>4</td>\n",
       "      <td>1</td>\n",
       "      <td>Athletic Sets</td>\n",
       "      <td>category</td>\n",
       "      <td>0.0</td>\n",
       "    </tr>\n",
       "    <tr>\n",
       "      <th>4</th>\n",
       "      <td>5</td>\n",
       "      <td>1</td>\n",
       "      <td>Athletic Shirts</td>\n",
       "      <td>category</td>\n",
       "      <td>0.0</td>\n",
       "    </tr>\n",
       "  </tbody>\n",
       "</table>\n",
       "</div>"
      ],
      "text/plain": [
       "   labelId  taskId        labelName  taskName  keep\n",
       "0        1       6           Argyle   pattern   0.0\n",
       "1        2       9       Asymmetric     style   NaN\n",
       "2        3       1   Athletic Pants  category   0.0\n",
       "3        4       1    Athletic Sets  category   0.0\n",
       "4        5       1  Athletic Shirts  category   0.0"
      ]
     },
     "execution_count": 28,
     "metadata": {},
     "output_type": "execute_result"
    }
   ],
   "source": [
    "df.columns\n",
    "df.head()"
   ]
  },
  {
   "cell_type": "code",
   "execution_count": 4,
   "id": "dfe80687",
   "metadata": {},
   "outputs": [
    {
     "name": "stdout",
     "output_type": "stream",
     "text": [
      "Image ID: 1)\n",
      "\n",
      "Label ID: 62, Label Name: Dresses\n",
      "Label ID: 17, Label Name: Black\n",
      "Label ID: 66, Label Name: Female\n",
      "Label ID: 214, Label Name: V-Necks\n",
      "Label ID: 105, Label Name: Long Sleeved\n",
      "Label ID: 137, Label Name: Polyester\n",
      "Label ID: 85, Label Name: Hi-Lo\n",
      "Image ID: 2)\n",
      "\n",
      "Label ID: 95, Label Name: Jumpsuits Overalls & Rompers\n",
      "Label ID: 17, Label Name: Black\n",
      "Label ID: 66, Label Name: Female\n",
      "Label ID: 214, Label Name: V-Necks\n",
      "Label ID: 164, Label Name: Short Sleeves\n",
      "Label ID: 137, Label Name: Polyester\n",
      "Label ID: 20, Label Name: Bodycon\n",
      "Label ID: 204, Label Name: Tunic\n",
      "Label ID: 184, Label Name: Summer\n",
      "Image ID: 3)\n",
      "\n",
      "Label ID: 122, Label Name: Party Dresses\n",
      "Label ID: 19, Label Name: Blue\n",
      "Label ID: 66, Label Name: Female\n",
      "Label ID: 186, Label Name: Sweetheart Neckline\n",
      "Label ID: 180, Label Name: Strapless\n",
      "Label ID: 44, Label Name: Chiffon\n",
      "Label ID: 154, Label Name: Ruched\n",
      "Label ID: 20, Label Name: Bodycon\n",
      "Image ID: 4)\n",
      "\n",
      "Label ID: 190, Label Name: T-Shirts\n",
      "Label ID: 222, Label Name: White\n",
      "Label ID: 66, Label Name: Female\n",
      "Label ID: 153, Label Name: Round Neck\n",
      "Label ID: 164, Label Name: Short Sleeves\n",
      "Label ID: 226, Label Name: Yellow\n",
      "Label ID: 53, Label Name: Cotton\n",
      "Label ID: 184, Label Name: Summer\n",
      "Image ID: 5)\n",
      "\n",
      "Label ID: 62, Label Name: Dresses\n",
      "Label ID: 66, Label Name: Female\n",
      "Label ID: 153, Label Name: Round Neck\n",
      "Label ID: 171, Label Name: Sleeveless\n",
      "Label ID: 111, Label Name: Multi Color\n",
      "Label ID: 137, Label Name: Polyester\n",
      "Label ID: 70, Label Name: Floral\n",
      "Label ID: 204, Label Name: Tunic\n",
      "Label ID: 184, Label Name: Summer\n"
     ]
    }
   ],
   "source": [
    "annotations = validation['annotations']\n",
    "\n",
    "for i in range(5):\n",
    "\n",
    "    ann = annotations[i]\n",
    "    image_id = ann['imageId']\n",
    "    label = ann['labelId']\n",
    "    print(f\"Image ID: {image_id})\\n\")\n",
    "    for single_label in label:\n",
    "        label_name = df[df['labelId'] == int(single_label)]['labelName'].values[0]\n",
    "        print(f\"Label ID: {single_label}, Label Name: {label_name}\")\n"
   ]
  },
  {
   "cell_type": "code",
   "execution_count": 5,
   "id": "c4b3a92b",
   "metadata": {},
   "outputs": [
    {
     "name": "stdout",
     "output_type": "stream",
     "text": [
      "\n",
      "Dropped Labels: [  1   3   4   5   6   7   9  10  11  13  16  26  27  33  34  36  37  38\n",
      "  39  40  41  43  46  47  48  52  54  57  64  74  75  76  80  81  82  83\n",
      "  84  85  86  87  89  90  93  94  95  96 103 104 107 108 112 116 118 119\n",
      " 120 121 122 123 124 125 127 128 129 139 140 143 144 145 149 156 161 162\n",
      " 163 172 174 175 176 177 178 179 186 187 188 189 191 195 198 203 204 206\n",
      " 207 208 215 218 221 223 227]\n",
      "Total Dropped Labels: 97\n"
     ]
    }
   ],
   "source": [
    "dropped_labels = df[df['keep'] == 0]['labelId'].values\n",
    "print(f\"\\nDropped Labels: {dropped_labels}\")\n",
    "print(f\"Total Dropped Labels: {len(dropped_labels)}\")"
   ]
  },
  {
   "cell_type": "code",
   "execution_count": 6,
   "id": "167df0ec",
   "metadata": {},
   "outputs": [
    {
     "name": "stdout",
     "output_type": "stream",
     "text": [
      "Number of labels to keep: 131\n"
     ]
    }
   ],
   "source": [
    "df_keep = df[df['keep'] != 0].copy()\n",
    "print(f\"Number of labels to keep: {df_keep.shape[0]}\")\n",
    "df_keep['labelId_new'] = range(1, df_keep.shape[0] + 1)\n"
   ]
  },
  {
   "cell_type": "code",
   "execution_count": 7,
   "id": "acf85543",
   "metadata": {},
   "outputs": [
    {
     "data": {
      "text/html": [
       "<div>\n",
       "<style scoped>\n",
       "    .dataframe tbody tr th:only-of-type {\n",
       "        vertical-align: middle;\n",
       "    }\n",
       "\n",
       "    .dataframe tbody tr th {\n",
       "        vertical-align: top;\n",
       "    }\n",
       "\n",
       "    .dataframe thead th {\n",
       "        text-align: right;\n",
       "    }\n",
       "</style>\n",
       "<table border=\"1\" class=\"dataframe\">\n",
       "  <thead>\n",
       "    <tr style=\"text-align: right;\">\n",
       "      <th></th>\n",
       "      <th>labelId</th>\n",
       "      <th>taskId</th>\n",
       "      <th>labelName</th>\n",
       "      <th>taskName</th>\n",
       "      <th>keep</th>\n",
       "      <th>labelId_new</th>\n",
       "    </tr>\n",
       "  </thead>\n",
       "  <tbody>\n",
       "    <tr>\n",
       "      <th>1</th>\n",
       "      <td>2</td>\n",
       "      <td>9</td>\n",
       "      <td>Asymmetric</td>\n",
       "      <td>style</td>\n",
       "      <td>NaN</td>\n",
       "      <td>1</td>\n",
       "    </tr>\n",
       "    <tr>\n",
       "      <th>7</th>\n",
       "      <td>8</td>\n",
       "      <td>1</td>\n",
       "      <td>Baggy Jeans</td>\n",
       "      <td>category</td>\n",
       "      <td>NaN</td>\n",
       "      <td>2</td>\n",
       "    </tr>\n",
       "    <tr>\n",
       "      <th>11</th>\n",
       "      <td>12</td>\n",
       "      <td>1</td>\n",
       "      <td>Beach &amp; Swim Wear</td>\n",
       "      <td>category</td>\n",
       "      <td>NaN</td>\n",
       "      <td>3</td>\n",
       "    </tr>\n",
       "    <tr>\n",
       "      <th>13</th>\n",
       "      <td>14</td>\n",
       "      <td>2</td>\n",
       "      <td>Beige</td>\n",
       "      <td>color</td>\n",
       "      <td>NaN</td>\n",
       "      <td>4</td>\n",
       "    </tr>\n",
       "    <tr>\n",
       "      <th>14</th>\n",
       "      <td>15</td>\n",
       "      <td>1</td>\n",
       "      <td>Bikinis</td>\n",
       "      <td>category</td>\n",
       "      <td>NaN</td>\n",
       "      <td>5</td>\n",
       "    </tr>\n",
       "  </tbody>\n",
       "</table>\n",
       "</div>"
      ],
      "text/plain": [
       "    labelId  taskId          labelName  taskName  keep  labelId_new\n",
       "1         2       9         Asymmetric     style   NaN            1\n",
       "7         8       1        Baggy Jeans  category   NaN            2\n",
       "11       12       1  Beach & Swim Wear  category   NaN            3\n",
       "13       14       2              Beige     color   NaN            4\n",
       "14       15       1            Bikinis  category   NaN            5"
      ]
     },
     "execution_count": 7,
     "metadata": {},
     "output_type": "execute_result"
    }
   ],
   "source": [
    "df_keep.head()"
   ]
  },
  {
   "cell_type": "code",
   "execution_count": 9,
   "id": "1e3f2b7d",
   "metadata": {},
   "outputs": [],
   "source": [
    "df_keep.to_excel('imat_data/relabel.xlsx')"
   ]
  },
  {
   "cell_type": "code",
   "execution_count": null,
   "id": "b0b6065a",
   "metadata": {},
   "outputs": [],
   "source": []
  }
 ],
 "metadata": {
  "kernelspec": {
   "display_name": "3.11.0",
   "language": "python",
   "name": "python3"
  },
  "language_info": {
   "codemirror_mode": {
    "name": "ipython",
    "version": 3
   },
   "file_extension": ".py",
   "mimetype": "text/x-python",
   "name": "python",
   "nbconvert_exporter": "python",
   "pygments_lexer": "ipython3",
   "version": "3.11.0"
  }
 },
 "nbformat": 4,
 "nbformat_minor": 5
}
